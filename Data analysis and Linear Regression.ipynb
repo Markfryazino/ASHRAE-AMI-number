{
 "cells": [
  {
   "cell_type": "markdown",
   "metadata": {},
   "source": [
    "# Basic linear regression"
   ]
  },
  {
   "cell_type": "markdown",
   "metadata": {},
   "source": [
    "## Data processing"
   ]
  },
  {
   "cell_type": "code",
   "execution_count": 1,
   "metadata": {},
   "outputs": [
    {
     "name": "stderr",
     "output_type": "stream",
     "text": [
      "...\n",
      "----------------------------------------------------------------------\n",
      "Ran 3 tests in 0.008s\n",
      "\n",
      "OK\n"
     ]
    },
    {
     "data": {
      "text/plain": [
       "<unittest.main.TestProgram at 0x2481a8001c8>"
      ]
     },
     "execution_count": 1,
     "metadata": {},
     "output_type": "execute_result"
    }
   ],
   "source": [
    "import pandas as pd\n",
    "import numpy as np\n",
    "import matplotlib.pyplot as plt\n",
    "import unittest\n",
    "\n",
    "from functions import fillna_by_time, Check_fillna_by_time\n",
    "unittest.main(argv=[\"\", \"Check_fillna_by_time\"], exit=False)"
   ]
  },
  {
   "cell_type": "code",
   "execution_count": 2,
   "metadata": {},
   "outputs": [],
   "source": [
    "building_info = pd.read_csv('.\\data\\\\building_metadata.csv')\n",
    "train_meters = pd.read_csv('.\\data\\\\train.csv')\n",
    "weather_train = pd.read_csv('.\\data\\\\weather_train.csv')"
   ]
  },
  {
   "cell_type": "code",
   "execution_count": 3,
   "metadata": {},
   "outputs": [
    {
     "data": {
      "text/html": [
       "<div>\n",
       "<style scoped>\n",
       "    .dataframe tbody tr th:only-of-type {\n",
       "        vertical-align: middle;\n",
       "    }\n",
       "\n",
       "    .dataframe tbody tr th {\n",
       "        vertical-align: top;\n",
       "    }\n",
       "\n",
       "    .dataframe thead th {\n",
       "        text-align: right;\n",
       "    }\n",
       "</style>\n",
       "<table border=\"1\" class=\"dataframe\">\n",
       "  <thead>\n",
       "    <tr style=\"text-align: right;\">\n",
       "      <th></th>\n",
       "      <th>site_id</th>\n",
       "      <th>building_id</th>\n",
       "      <th>primary_use</th>\n",
       "      <th>square_feet</th>\n",
       "      <th>year_built</th>\n",
       "      <th>floor_count</th>\n",
       "    </tr>\n",
       "  </thead>\n",
       "  <tbody>\n",
       "    <tr>\n",
       "      <td>0</td>\n",
       "      <td>0</td>\n",
       "      <td>0</td>\n",
       "      <td>Education</td>\n",
       "      <td>7432</td>\n",
       "      <td>2008.0</td>\n",
       "      <td>NaN</td>\n",
       "    </tr>\n",
       "    <tr>\n",
       "      <td>1</td>\n",
       "      <td>0</td>\n",
       "      <td>1</td>\n",
       "      <td>Education</td>\n",
       "      <td>2720</td>\n",
       "      <td>2004.0</td>\n",
       "      <td>NaN</td>\n",
       "    </tr>\n",
       "    <tr>\n",
       "      <td>2</td>\n",
       "      <td>0</td>\n",
       "      <td>2</td>\n",
       "      <td>Education</td>\n",
       "      <td>5376</td>\n",
       "      <td>1991.0</td>\n",
       "      <td>NaN</td>\n",
       "    </tr>\n",
       "  </tbody>\n",
       "</table>\n",
       "</div>"
      ],
      "text/plain": [
       "   site_id  building_id primary_use  square_feet  year_built  floor_count\n",
       "0        0            0   Education         7432      2008.0          NaN\n",
       "1        0            1   Education         2720      2004.0          NaN\n",
       "2        0            2   Education         5376      1991.0          NaN"
      ]
     },
     "execution_count": 3,
     "metadata": {},
     "output_type": "execute_result"
    }
   ],
   "source": [
    "building_info.head(3)"
   ]
  },
  {
   "cell_type": "code",
   "execution_count": 4,
   "metadata": {},
   "outputs": [],
   "source": [
    "# separate tasks\n",
    "electricity = train_meters[train_meters.meter==0].drop('meter', axis=1)\n",
    "chilledwater = train_meters[train_meters.meter==1].drop('meter', axis=1)\n",
    "steam = train_meters[train_meters.meter==2].drop('meter', axis=1)\n",
    "hotwater = train_meters[train_meters.meter==3].drop('meter', axis=1)\n",
    "\n",
    "del train_meters"
   ]
  },
  {
   "cell_type": "code",
   "execution_count": 5,
   "metadata": {},
   "outputs": [],
   "source": [
    "# let's start with electricity\n",
    "# we should join dataframes to see the whole picture\n",
    "electricity = electricity.set_index('building_id').join(\n",
    "    building_info.set_index('building_id'), \n",
    "    on='building_id')\n",
    "electricity.set_index(pd.Index([i for i in range(len(electricity))]), inplace=True)"
   ]
  },
  {
   "cell_type": "code",
   "execution_count": 6,
   "metadata": {
    "scrolled": true
   },
   "outputs": [],
   "source": [
    "# remove nans\n",
    "electricity['floor_count'].fillna(electricity['floor_count'].median(), inplace=True)\n",
    "electricity['year_built'].fillna(electricity['year_built'].median(), inplace=True)"
   ]
  },
  {
   "cell_type": "code",
   "execution_count": 7,
   "metadata": {},
   "outputs": [
    {
     "name": "stdout",
     "output_type": "stream",
     "text": [
      "column timestamp doesn't have Nans\n",
      "column meter_reading doesn't have Nans\n",
      "column site_id doesn't have Nans\n",
      "column primary_use doesn't have Nans\n",
      "column square_feet doesn't have Nans\n",
      "column year_built doesn't have Nans\n",
      "column floor_count doesn't have Nans\n"
     ]
    }
   ],
   "source": [
    "for i in electricity.columns:\n",
    "    part = 'has Nans!!!' if electricity[i].isna().any() else 'doesn\\'t have Nans'\n",
    "    print(f'column {i} {part}')"
   ]
  },
  {
   "cell_type": "code",
   "execution_count": 8,
   "metadata": {},
   "outputs": [
    {
     "name": "stdout",
     "output_type": "stream",
     "text": [
      "There are 16 unique site_ids\n",
      "But for every site_id there are in average 8735 rows\n",
      "We are going to have 105352048850 raws at all!!!\n"
     ]
    }
   ],
   "source": [
    "print('There are', len(weather_train['site_id'].unique()), 'unique site_ids')\n",
    "\n",
    "mean_for_site_id = 0\n",
    "for i in weather_train['site_id'].unique():\n",
    "    mean_for_site_id += weather_train['site_id'][weather_train['site_id'] == i].count()\n",
    "mean_for_site_id /= len(weather_train['site_id'].unique())\n",
    "\n",
    "print('But for every site_id there are in average', int(mean_for_site_id), 'rows')\n",
    "print('We are going to have', int(mean_for_site_id)*len(electricity),'raws at all!!!')"
   ]
  },
  {
   "cell_type": "code",
   "execution_count": 9,
   "metadata": {},
   "outputs": [
    {
     "name": "stdout",
     "output_type": "stream",
     "text": [
      "for 0 0.5429189435336976 of data doesn't have Nans at all\n",
      "for 1 0.0 of data doesn't have Nans at all\n",
      "for 2 0.6747125128088353 of data doesn't have Nans at all\n",
      "for 3 0.5714123006833713 of data doesn't have Nans at all\n",
      "for 4 0.4361835363770921 of data doesn't have Nans at all\n",
      "for 5 0.0 of data doesn't have Nans at all\n",
      "for 6 0.5867683898884081 of data doesn't have Nans at all\n",
      "for 7 0.0 of data doesn't have Nans at all\n",
      "for 8 0.5429189435336976 of data doesn't have Nans at all\n",
      "for 9 0.44123006833712985 of data doesn't have Nans at all\n",
      "for 10 0.666021407424277 of data doesn't have Nans at all\n",
      "for 11 0.0 of data doesn't have Nans at all\n",
      "for 12 0.0 of data doesn't have Nans at all\n",
      "for 13 0.49379483092337473 of data doesn't have Nans at all\n",
      "for 14 0.5924575595305913 of data doesn't have Nans at all\n",
      "for 15 0.006505796072864916 of data doesn't have Nans at all\n"
     ]
    }
   ],
   "source": [
    "for index in weather_train['site_id'].unique():\n",
    "    testing_site_id = weather_train[weather_train['site_id'] == index]\n",
    "    \n",
    "    with_nans = testing_site_id['air_temperature'].isna()\n",
    "    for i in testing_site_id.columns:\n",
    "        with_nans |= testing_site_id[i].isna()\n",
    "\n",
    "    print('for', index, len(testing_site_id[~with_nans])/len(testing_site_id), \n",
    "          'of data doesn\\'t have Nans at all')"
   ]
  },
  {
   "cell_type": "code",
   "execution_count": 13,
   "metadata": {
    "scrolled": true
   },
   "outputs": [
    {
     "data": {
      "text/html": [
       "<div>\n",
       "<style scoped>\n",
       "    .dataframe tbody tr th:only-of-type {\n",
       "        vertical-align: middle;\n",
       "    }\n",
       "\n",
       "    .dataframe tbody tr th {\n",
       "        vertical-align: top;\n",
       "    }\n",
       "\n",
       "    .dataframe thead th {\n",
       "        text-align: right;\n",
       "    }\n",
       "</style>\n",
       "<table border=\"1\" class=\"dataframe\">\n",
       "  <thead>\n",
       "    <tr style=\"text-align: right;\">\n",
       "      <th></th>\n",
       "      <th>timestamp</th>\n",
       "      <th>air_temperature</th>\n",
       "      <th>cloud_coverage</th>\n",
       "      <th>dew_temperature</th>\n",
       "      <th>precip_depth_1_hr</th>\n",
       "      <th>sea_level_pressure</th>\n",
       "      <th>wind_direction</th>\n",
       "      <th>wind_speed</th>\n",
       "    </tr>\n",
       "  </thead>\n",
       "  <tbody>\n",
       "    <tr>\n",
       "      <td>0</td>\n",
       "      <td>2016-01-01 00:00:00</td>\n",
       "      <td>25.0</td>\n",
       "      <td>6.0</td>\n",
       "      <td>20.0</td>\n",
       "      <td>NaN</td>\n",
       "      <td>1019.7</td>\n",
       "      <td>0.0</td>\n",
       "      <td>0.0</td>\n",
       "    </tr>\n",
       "    <tr>\n",
       "      <td>1</td>\n",
       "      <td>2016-01-01 01:00:00</td>\n",
       "      <td>24.4</td>\n",
       "      <td>NaN</td>\n",
       "      <td>21.1</td>\n",
       "      <td>-1.0</td>\n",
       "      <td>1020.2</td>\n",
       "      <td>70.0</td>\n",
       "      <td>1.5</td>\n",
       "    </tr>\n",
       "    <tr>\n",
       "      <td>2</td>\n",
       "      <td>2016-01-01 02:00:00</td>\n",
       "      <td>22.8</td>\n",
       "      <td>2.0</td>\n",
       "      <td>21.1</td>\n",
       "      <td>0.0</td>\n",
       "      <td>1020.2</td>\n",
       "      <td>0.0</td>\n",
       "      <td>0.0</td>\n",
       "    </tr>\n",
       "  </tbody>\n",
       "</table>\n",
       "</div>"
      ],
      "text/plain": [
       "             timestamp  air_temperature  cloud_coverage  dew_temperature  \\\n",
       "0  2016-01-01 00:00:00             25.0             6.0             20.0   \n",
       "1  2016-01-01 01:00:00             24.4             NaN             21.1   \n",
       "2  2016-01-01 02:00:00             22.8             2.0             21.1   \n",
       "\n",
       "   precip_depth_1_hr  sea_level_pressure  wind_direction  wind_speed  \n",
       "0                NaN              1019.7             0.0         0.0  \n",
       "1               -1.0              1020.2            70.0         1.5  \n",
       "2                0.0              1020.2             0.0         0.0  "
      ]
     },
     "execution_count": 13,
     "metadata": {},
     "output_type": "execute_result"
    }
   ],
   "source": [
    "testing_site_id = weather_train[weather_train['site_id'] == 0].drop('site_id', axis=1)\n",
    "testing_site_id.head(3)"
   ]
  },
  {
   "cell_type": "code",
   "execution_count": 14,
   "metadata": {},
   "outputs": [
    {
     "data": {
      "text/html": [
       "<div>\n",
       "<style scoped>\n",
       "    .dataframe tbody tr th:only-of-type {\n",
       "        vertical-align: middle;\n",
       "    }\n",
       "\n",
       "    .dataframe tbody tr th {\n",
       "        vertical-align: top;\n",
       "    }\n",
       "\n",
       "    .dataframe thead th {\n",
       "        text-align: right;\n",
       "    }\n",
       "</style>\n",
       "<table border=\"1\" class=\"dataframe\">\n",
       "  <thead>\n",
       "    <tr style=\"text-align: right;\">\n",
       "      <th></th>\n",
       "      <th>timestamp</th>\n",
       "      <th>air_temperature</th>\n",
       "      <th>cloud_coverage</th>\n",
       "      <th>dew_temperature</th>\n",
       "      <th>precip_depth_1_hr</th>\n",
       "      <th>sea_level_pressure</th>\n",
       "      <th>wind_direction</th>\n",
       "      <th>wind_speed</th>\n",
       "    </tr>\n",
       "  </thead>\n",
       "  <tbody>\n",
       "    <tr>\n",
       "      <td>0</td>\n",
       "      <td>2016-01-01 00:00:00</td>\n",
       "      <td>25.0</td>\n",
       "      <td>6.0</td>\n",
       "      <td>20.0</td>\n",
       "      <td>NaN</td>\n",
       "      <td>1019.7</td>\n",
       "      <td>0.0</td>\n",
       "      <td>0.0</td>\n",
       "    </tr>\n",
       "    <tr>\n",
       "      <td>1</td>\n",
       "      <td>2016-01-01 01:00:00</td>\n",
       "      <td>24.4</td>\n",
       "      <td>6.0</td>\n",
       "      <td>21.1</td>\n",
       "      <td>-1.0</td>\n",
       "      <td>1020.2</td>\n",
       "      <td>70.0</td>\n",
       "      <td>1.5</td>\n",
       "    </tr>\n",
       "    <tr>\n",
       "      <td>2</td>\n",
       "      <td>2016-01-01 02:00:00</td>\n",
       "      <td>22.8</td>\n",
       "      <td>2.0</td>\n",
       "      <td>21.1</td>\n",
       "      <td>0.0</td>\n",
       "      <td>1020.2</td>\n",
       "      <td>0.0</td>\n",
       "      <td>0.0</td>\n",
       "    </tr>\n",
       "  </tbody>\n",
       "</table>\n",
       "</div>"
      ],
      "text/plain": [
       "             timestamp  air_temperature  cloud_coverage  dew_temperature  \\\n",
       "0  2016-01-01 00:00:00             25.0             6.0             20.0   \n",
       "1  2016-01-01 01:00:00             24.4             6.0             21.1   \n",
       "2  2016-01-01 02:00:00             22.8             2.0             21.1   \n",
       "\n",
       "   precip_depth_1_hr  sea_level_pressure  wind_direction  wind_speed  \n",
       "0                NaN              1019.7             0.0         0.0  \n",
       "1               -1.0              1020.2            70.0         1.5  \n",
       "2                0.0              1020.2             0.0         0.0  "
      ]
     },
     "execution_count": 14,
     "metadata": {},
     "output_type": "execute_result"
    }
   ],
   "source": [
    "fillna_by_time(testing_site_id, 'cloud_coverage').head(3)"
   ]
  },
  {
   "cell_type": "code",
   "execution_count": 78,
   "metadata": {},
   "outputs": [
    {
     "data": {
      "image/png": "[encoded data removed]",
      "text/plain": [
       "<Figure size 432x288 with 1 Axes>"
      ]
     },
     "metadata": {
      "needs_background": "light"
     },
     "output_type": "display_data"
    }
   ],
   "source": [
    "# research features for each site_id\n",
    "\n",
    "# for site_id = 1\n",
    "\n",
    "#UNFINISHED\n",
    "x = [21,22,23,4,5,6,77,8,9,10,31,32,33,34,35,36,37,18,49,50,100]\n",
    "num_bins = 20\n",
    "n, bins, patches = plt.hist(x, num_bins, facecolor='blue', alpha=0.5)\n",
    "plt.show()"
   ]
  },
  {
   "cell_type": "code",
   "execution_count": null,
   "metadata": {},
   "outputs": [],
   "source": [
    "# our regression should understand where to put zeros\n",
    "# (they appear quite often)"
   ]
  }
 ],
 "metadata": {
  "kernelspec": {
   "display_name": "Python 3",
   "language": "python",
   "name": "python3"
  },
  "language_info": {
   "codemirror_mode": {
    "name": "ipython",
    "version": 3
   },
   "file_extension": ".py",
   "mimetype": "text/x-python",
   "name": "python",
   "nbconvert_exporter": "python",
   "pygments_lexer": "ipython3",
   "version": "3.7.4"
  }
 },
 "nbformat": 4,
 "nbformat_minor": 2
}
