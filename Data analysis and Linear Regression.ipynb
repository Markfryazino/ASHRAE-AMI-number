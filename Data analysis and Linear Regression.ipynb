{
 "cells": [
  {
   "cell_type": "markdown",
   "metadata": {},
   "source": [
    "# Basic linear regression"
   ]
  },
  {
   "cell_type": "code",
   "execution_count": 1,
   "metadata": {
    "scrolled": false
   },
   "outputs": [
    {
     "name": "stderr",
     "output_type": "stream",
     "text": [
      "...\n",
      "----------------------------------------------------------------------\n",
      "Ran 3 tests in 0.008s\n",
      "\n",
      "OK\n"
     ]
    },
    {
     "data": {
      "text/plain": [
       "<unittest.main.TestProgram at 0x21ef7d0db48>"
      ]
     },
     "execution_count": 1,
     "metadata": {},
     "output_type": "execute_result"
    }
   ],
   "source": [
    "import pandas as pd\n",
    "import numpy as np\n",
    "import matplotlib.pyplot as plt\n",
    "\n",
    "import unittest\n",
    "import itertools\n",
    "\n",
    "import tensorflow as tf\n",
    "from tensorflow.keras import layers\n",
    "from IPython.display import clear_output\n",
    "\n",
    "from functions import fillna_by_time, Check_fillna_by_time\n",
    "unittest.main(argv=[\"\", \"Check_fillna_by_time\"], exit=False)"
   ]
  },
  {
   "cell_type": "markdown",
   "metadata": {},
   "source": [
    "## Data processing"
   ]
  },
  {
   "cell_type": "code",
   "execution_count": 2,
   "metadata": {},
   "outputs": [],
   "source": [
    "building_info = pd.read_csv('.\\data\\\\building_metadata.csv')\n",
    "train_meters = pd.read_csv('.\\data\\\\train.csv')\n",
    "weather_train = pd.read_csv('.\\data\\\\weather_train.csv')"
   ]
  },
  {
   "cell_type": "code",
   "execution_count": 3,
   "metadata": {},
   "outputs": [
    {
     "data": {
      "text/html": [
       "<div>\n",
       "<style scoped>\n",
       "    .dataframe tbody tr th:only-of-type {\n",
       "        vertical-align: middle;\n",
       "    }\n",
       "\n",
       "    .dataframe tbody tr th {\n",
       "        vertical-align: top;\n",
       "    }\n",
       "\n",
       "    .dataframe thead th {\n",
       "        text-align: right;\n",
       "    }\n",
       "</style>\n",
       "<table border=\"1\" class=\"dataframe\">\n",
       "  <thead>\n",
       "    <tr style=\"text-align: right;\">\n",
       "      <th></th>\n",
       "      <th>site_id</th>\n",
       "      <th>building_id</th>\n",
       "      <th>primary_use</th>\n",
       "      <th>square_feet</th>\n",
       "      <th>year_built</th>\n",
       "      <th>floor_count</th>\n",
       "    </tr>\n",
       "  </thead>\n",
       "  <tbody>\n",
       "    <tr>\n",
       "      <td>0</td>\n",
       "      <td>0</td>\n",
       "      <td>0</td>\n",
       "      <td>Education</td>\n",
       "      <td>7432</td>\n",
       "      <td>2008.0</td>\n",
       "      <td>NaN</td>\n",
       "    </tr>\n",
       "    <tr>\n",
       "      <td>1</td>\n",
       "      <td>0</td>\n",
       "      <td>1</td>\n",
       "      <td>Education</td>\n",
       "      <td>2720</td>\n",
       "      <td>2004.0</td>\n",
       "      <td>NaN</td>\n",
       "    </tr>\n",
       "    <tr>\n",
       "      <td>2</td>\n",
       "      <td>0</td>\n",
       "      <td>2</td>\n",
       "      <td>Education</td>\n",
       "      <td>5376</td>\n",
       "      <td>1991.0</td>\n",
       "      <td>NaN</td>\n",
       "    </tr>\n",
       "  </tbody>\n",
       "</table>\n",
       "</div>"
      ],
      "text/plain": [
       "   site_id  building_id primary_use  square_feet  year_built  floor_count\n",
       "0        0            0   Education         7432      2008.0          NaN\n",
       "1        0            1   Education         2720      2004.0          NaN\n",
       "2        0            2   Education         5376      1991.0          NaN"
      ]
     },
     "execution_count": 3,
     "metadata": {},
     "output_type": "execute_result"
    }
   ],
   "source": [
    "building_info.head(3)"
   ]
  },
  {
   "cell_type": "code",
   "execution_count": 4,
   "metadata": {},
   "outputs": [],
   "source": [
    "# separate tasks\n",
    "electricity = train_meters[train_meters.meter==0].drop('meter', axis=1)\n",
    "chilledwater = train_meters[train_meters.meter==1].drop('meter', axis=1)\n",
    "steam = train_meters[train_meters.meter==2].drop('meter', axis=1)\n",
    "hotwater = train_meters[train_meters.meter==3].drop('meter', axis=1)\n",
    "\n",
    "del train_meters"
   ]
  },
  {
   "cell_type": "code",
   "execution_count": 5,
   "metadata": {},
   "outputs": [],
   "source": [
    "# let's start with electricity\n",
    "# we should join dataframes to see the whole picture\n",
    "electricity = electricity.set_index('building_id').join(\n",
    "    building_info.set_index('building_id'), \n",
    "    on='building_id')\n",
    "electricity.set_index(pd.Index([i for i in range(len(electricity))]), inplace=True)"
   ]
  },
  {
   "cell_type": "code",
   "execution_count": 6,
   "metadata": {
    "scrolled": true
   },
   "outputs": [],
   "source": [
    "# remove nans\n",
    "electricity['floor_count'].fillna(electricity['floor_count'].median(), inplace=True)\n",
    "electricity['year_built'].fillna(electricity['year_built'].median(), inplace=True)"
   ]
  },
  {
   "cell_type": "code",
   "execution_count": 7,
   "metadata": {},
   "outputs": [
    {
     "name": "stdout",
     "output_type": "stream",
     "text": [
      "column timestamp doesn't have Nans\n",
      "column meter_reading doesn't have Nans\n",
      "column site_id doesn't have Nans\n",
      "column primary_use doesn't have Nans\n",
      "column square_feet doesn't have Nans\n",
      "column year_built doesn't have Nans\n",
      "column floor_count doesn't have Nans\n"
     ]
    }
   ],
   "source": [
    "for i in electricity.columns:\n",
    "    part = 'has Nans!!!' if electricity[i].isna().any() else 'doesn\\'t have Nans'\n",
    "    print(f'column {i} {part}')"
   ]
  },
  {
   "cell_type": "code",
   "execution_count": 8,
   "metadata": {},
   "outputs": [
    {
     "name": "stdout",
     "output_type": "stream",
     "text": [
      "There are 16 unique site_ids\n",
      "But for every site_id there are in average 8735 rows\n",
      "We are going to have 105352048850 raws at all!!!\n"
     ]
    }
   ],
   "source": [
    "print('There are', len(weather_train['site_id'].unique()), 'unique site_ids')\n",
    "\n",
    "mean_for_site_id = 0\n",
    "for i in weather_train['site_id'].unique():\n",
    "    mean_for_site_id += weather_train['site_id'][weather_train['site_id'] == i].count()\n",
    "mean_for_site_id /= len(weather_train['site_id'].unique())\n",
    "\n",
    "print('But for every site_id there are in average', int(mean_for_site_id), 'rows')\n",
    "print('We are going to have', int(mean_for_site_id)*len(electricity),'raws at all!!!')"
   ]
  },
  {
   "cell_type": "code",
   "execution_count": 9,
   "metadata": {
    "scrolled": false
   },
   "outputs": [
    {
     "name": "stdout",
     "output_type": "stream",
     "text": [
      "for 0 0.5429189435336976 of data doesn't have Nans at all\n",
      "for 1 0.0 of data doesn't have Nans at all\n",
      "for 2 0.6747125128088353 of data doesn't have Nans at all\n",
      "for 3 0.5714123006833713 of data doesn't have Nans at all\n",
      "for 4 0.4361835363770921 of data doesn't have Nans at all\n",
      "for 5 0.0 of data doesn't have Nans at all\n",
      "for 6 0.5867683898884081 of data doesn't have Nans at all\n",
      "for 7 0.0 of data doesn't have Nans at all\n",
      "for 8 0.5429189435336976 of data doesn't have Nans at all\n",
      "for 9 0.44123006833712985 of data doesn't have Nans at all\n",
      "for 10 0.666021407424277 of data doesn't have Nans at all\n",
      "for 11 0.0 of data doesn't have Nans at all\n",
      "for 12 0.0 of data doesn't have Nans at all\n",
      "for 13 0.49379483092337473 of data doesn't have Nans at all\n",
      "for 14 0.5924575595305913 of data doesn't have Nans at all\n",
      "for 15 0.006505796072864916 of data doesn't have Nans at all\n"
     ]
    }
   ],
   "source": [
    "for index in weather_train['site_id'].unique():\n",
    "    testing_site_id = weather_train[weather_train['site_id'] == index]\n",
    "    \n",
    "    with_nans = testing_site_id['air_temperature'].isna()\n",
    "    for i in testing_site_id.columns:\n",
    "        with_nans |= testing_site_id[i].isna()\n",
    "\n",
    "    print('for', index, len(testing_site_id[~with_nans])/len(testing_site_id), \n",
    "          'of data doesn\\'t have Nans at all')"
   ]
  },
  {
   "cell_type": "code",
   "execution_count": 10,
   "metadata": {
    "scrolled": false
   },
   "outputs": [
    {
     "data": {
      "text/html": [
       "<div>\n",
       "<style scoped>\n",
       "    .dataframe tbody tr th:only-of-type {\n",
       "        vertical-align: middle;\n",
       "    }\n",
       "\n",
       "    .dataframe tbody tr th {\n",
       "        vertical-align: top;\n",
       "    }\n",
       "\n",
       "    .dataframe thead th {\n",
       "        text-align: right;\n",
       "    }\n",
       "</style>\n",
       "<table border=\"1\" class=\"dataframe\">\n",
       "  <thead>\n",
       "    <tr style=\"text-align: right;\">\n",
       "      <th></th>\n",
       "      <th>air_temperature</th>\n",
       "      <th>cloud_coverage</th>\n",
       "      <th>dew_temperature</th>\n",
       "      <th>precip_depth_1_hr</th>\n",
       "      <th>sea_level_pressure</th>\n",
       "      <th>wind_direction</th>\n",
       "      <th>wind_speed</th>\n",
       "    </tr>\n",
       "  </thead>\n",
       "  <tbody>\n",
       "    <tr>\n",
       "      <td>0</td>\n",
       "      <td>25.0</td>\n",
       "      <td>6.0</td>\n",
       "      <td>20.0</td>\n",
       "      <td>-1.0</td>\n",
       "      <td>1019.7</td>\n",
       "      <td>0.0</td>\n",
       "      <td>0.0</td>\n",
       "    </tr>\n",
       "    <tr>\n",
       "      <td>1</td>\n",
       "      <td>24.4</td>\n",
       "      <td>6.0</td>\n",
       "      <td>21.1</td>\n",
       "      <td>-1.0</td>\n",
       "      <td>1020.2</td>\n",
       "      <td>70.0</td>\n",
       "      <td>1.5</td>\n",
       "    </tr>\n",
       "    <tr>\n",
       "      <td>2</td>\n",
       "      <td>22.8</td>\n",
       "      <td>2.0</td>\n",
       "      <td>21.1</td>\n",
       "      <td>0.0</td>\n",
       "      <td>1020.2</td>\n",
       "      <td>0.0</td>\n",
       "      <td>0.0</td>\n",
       "    </tr>\n",
       "  </tbody>\n",
       "</table>\n",
       "</div>"
      ],
      "text/plain": [
       "   air_temperature  cloud_coverage  dew_temperature  precip_depth_1_hr  \\\n",
       "0             25.0             6.0             20.0               -1.0   \n",
       "1             24.4             6.0             21.1               -1.0   \n",
       "2             22.8             2.0             21.1                0.0   \n",
       "\n",
       "   sea_level_pressure  wind_direction  wind_speed  \n",
       "0              1019.7             0.0         0.0  \n",
       "1              1020.2            70.0         1.5  \n",
       "2              1020.2             0.0         0.0  "
      ]
     },
     "execution_count": 10,
     "metadata": {},
     "output_type": "execute_result"
    }
   ],
   "source": [
    "# research features for each site_id == 0\n",
    "# drop time and site_id because they are not useful now\n",
    "# (time just shows us the order to sort)\n",
    "testing_site_id = weather_train[weather_train['site_id'] == 0].drop('site_id', axis=1)\n",
    "for i in testing_site_id.columns[1:]:\n",
    "    testing_site_id = fillna_by_time(testing_site_id, i)\n",
    "testing_site_id = testing_site_id.drop('timestamp', axis=1)\n",
    "\n",
    "testing_site_id.head(3)"
   ]
  },
  {
   "cell_type": "code",
   "execution_count": 11,
   "metadata": {
    "collapsed": true
   },
   "outputs": [
    {
     "data": {
      "image/png": "[encoded data removed]",
      "text/plain": [
       "<Figure size 864x864 with 7 Axes>"
      ]
     },
     "metadata": {
      "needs_background": "light"
     },
     "output_type": "display_data"
    }
   ],
   "source": [
    "num_bins = 20\n",
    "plt.figure(figsize=(12, 12))\n",
    "\n",
    "index = 1\n",
    "for i in testing_site_id.columns:\n",
    "    plt.subplot((len(testing_site_id.columns)+2)//3, 3, index)\n",
    "    plt.title(i)\n",
    "    n, bins, patches = plt.hist(testing_site_id[i], num_bins, facecolor='blue', alpha=0.5)\n",
    "    index += 1\n",
    "\n",
    "plt.show()"
   ]
  },
  {
   "cell_type": "code",
   "execution_count": 12,
   "metadata": {},
   "outputs": [],
   "source": [
    "# precip_depth_1_hr now doesn't have any useful info\n",
    "testing_site_id = testing_site_id.drop('precip_depth_1_hr', axis=1)"
   ]
  },
  {
   "cell_type": "code",
   "execution_count": 14,
   "metadata": {},
   "outputs": [],
   "source": [
    "# let's fit normal distribution on our data\n",
    "num_bins = 20\n",
    "\n",
    "\n",
    "def get_in_columns(column, testing_site_id):\n",
    "    y, x, patches = plt.hist(testing_site_id[column], num_bins, facecolor='blue', alpha=0.5)\n",
    "    x = np.array(x[:-1], dtype='float32')\n",
    "    y = np.array(y, dtype='float32')\n",
    "\n",
    "    x = ((x - x.mean())/x.max())*10\n",
    "    y /= y.max()\n",
    "    \n",
    "    return x, y\n",
    "\n",
    "\n",
    "x, y = get_in_columns('air_temperature', testing_site_id)"
   ]
  },
  {
   "cell_type": "code",
   "execution_count": 11,
   "metadata": {},
   "outputs": [],
   "source": [
    "class DestributionLayer(layers.Layer):\n",
    "    def __init__(self, mu=0., st=1.):\n",
    "        super(DestributionLayer, self).__init__()\n",
    "        \n",
    "        self.mu_var = mu\n",
    "        self.st_var = st\n",
    "        \n",
    "        self.trainable = True\n",
    "        \n",
    "        \n",
    "    def build(self, input_shape):\n",
    "        self.mu = self.add_weight(shape=(input_shape[-1]),\n",
    "                             initializer=tf.keras.initializers.Constant(self.mu_var),\n",
    "                             trainable=True)\n",
    "        \n",
    "        self.st = self.add_weight(shape=(input_shape[-1]),\n",
    "                             initializer=tf.keras.initializers.Constant(self.st_var),\n",
    "                             trainable=True)\n",
    "        \n",
    "    def call(self, inputs):\n",
    "        return tf.math.exp(-(inputs - self.mu)**2 / (2*self.st)) / tf.math.sqrt(2*np.pi*self.st)\n",
    "    \n",
    "    \n",
    "    def compute_output_shape(self, input_shape):\n",
    "        return (input_shape[0], input_shape[-1])"
   ]
  },
  {
   "cell_type": "code",
   "execution_count": 12,
   "metadata": {},
   "outputs": [
    {
     "data": {
      "text/plain": [
       "'\\nmodel = distribution_model(num_layers)\\nmodel.fit(x, y, batch_size=len(x), epochs=1)\\nplt.plot(x, model(x))\\nplt.plot(x, y)\\nplt.show()\\n'"
      ]
     },
     "execution_count": 12,
     "metadata": {},
     "output_type": "execute_result"
    }
   ],
   "source": [
    "num_layers = 5\n",
    "\n",
    "\n",
    "def loss(y, y_pred):\n",
    "    return tf.reduce_mean((y_pred-y)**2)\n",
    "\n",
    "\n",
    "def maxis(y):\n",
    "    return tf.reduce_max(y)\n",
    "  \n",
    "    \n",
    "def distribution_model(num_layers):\n",
    "    inputs_ = layers.Input((1,))\n",
    "    sp = []\n",
    "    for i in range(5):\n",
    "        sp.append(DestributionLayer((np.random.rand(1)*2-1)*2, 0.5)(inputs_))\n",
    "    predictions = sum(sp)\n",
    "\n",
    "    model_ = tf.keras.Model(\n",
    "            inputs=inputs_, \n",
    "            outputs=predictions)\n",
    "\n",
    "    model_.compile(optimizer=tf.keras.optimizers.RMSprop(0.01),\n",
    "                  loss=loss)\n",
    "    \n",
    "    return model_\n",
    "\n",
    "\n",
    "model = distribution_model(num_layers)\n",
    "model.fit(x, y, batch_size=len(x), epochs=800)\n",
    "plt.plot(x, model(x))\n",
    "plt.plot(x, y)\n",
    "plt.show()"
   ]
  },
  {
   "cell_type": "markdown",
   "metadata": {},
   "source": [
    "### There is a long-run calculation, skip it if you have weather_train_ditributions.csv file"
   ]
  },
  {
   "cell_type": "code",
   "execution_count": 35,
   "metadata": {
    "collapsed": true
   },
   "outputs": [
    {
     "name": "stdout",
     "output_type": "stream",
     "text": [
      "Train on 20 samples\n",
      "20/20 [==============================] - 0s 25ms/sample - loss: 0.1566\n",
      "Train on 20 samples\n",
      "20/20 [==============================] - 1s 25ms/sample - loss: 0.5082\n",
      "Train on 20 samples\n",
      "20/20 [==============================] - 0s 25ms/sample - loss: 0.3528\n",
      "Train on 20 samples\n",
      "20/20 [==============================] - 1s 25ms/sample - loss: 0.6067\n",
      "Train on 20 samples\n",
      "20/20 [==============================] - 0s 25ms/sample - loss: 0.4706\n",
      "Train on 20 samples\n",
      "20/20 [==============================] - 1s 25ms/sample - loss: 0.6634\n",
      "Train on 20 samples\n",
      "20/20 [==============================] - 1s 44ms/sample - loss: 0.0931\n",
      "Train on 20 samples\n",
      "20/20 [==============================] - 0s 24ms/sample - loss: 0.5882\n",
      "Train on 20 samples\n",
      "20/20 [==============================] - 0s 25ms/sample - loss: 0.1222\n",
      "Train on 20 samples\n",
      "20/20 [==============================] - 1s 25ms/sample - loss: 0.2773\n",
      "Train on 20 samples\n",
      "20/20 [==============================] - 1s 45ms/sample - loss: 0.3191\n",
      "Train on 20 samples\n",
      "20/20 [==============================] - 1s 27ms/sample - loss: 0.5425\n",
      "Train on 20 samples\n",
      "20/20 [==============================] - 0s 25ms/sample - loss: 0.2981\n",
      "Train on 20 samples\n",
      "20/20 [==============================] - 0s 25ms/sample - loss: 0.6120\n",
      "Train on 20 samples\n",
      "20/20 [==============================] - 0s 24ms/sample - loss: 0.1742\n",
      "Train on 20 samples\n",
      "20/20 [==============================] - 1s 45ms/sample - loss: 1.1111\n",
      "Train on 20 samples\n",
      "20/20 [==============================] - 0s 25ms/sample - loss: 0.3066\n",
      "Train on 20 samples\n",
      "20/20 [==============================] - 1s 25ms/sample - loss: 0.7345\n",
      "Train on 20 samples\n",
      "20/20 [==============================] - 0s 25ms/sample - loss: 0.2123\n",
      "Train on 20 samples\n",
      "20/20 [==============================] - 1s 43ms/sample - loss: 0.5933\n",
      "Train on 20 samples\n",
      "20/20 [==============================] - 0s 25ms/sample - loss: 0.2809\n",
      "Train on 20 samples\n",
      "20/20 [==============================] - 1s 26ms/sample - loss: 0.3731\n",
      "Train on 20 samples\n",
      "20/20 [==============================] - 1s 25ms/sample - loss: 0.3348\n",
      "Train on 20 samples\n",
      "20/20 [==============================] - 1s 26ms/sample - loss: 0.4669\n",
      "Train on 20 samples\n",
      "20/20 [==============================] - 1s 45ms/sample - loss: 0.1882\n",
      "Train on 20 samples\n",
      "20/20 [==============================] - 1s 25ms/sample - loss: 0.4947\n",
      "Train on 20 samples\n",
      "20/20 [==============================] - 0s 25ms/sample - loss: 0.3750\n",
      "Train on 20 samples\n",
      "20/20 [==============================] - 0s 24ms/sample - loss: 1.3630\n",
      "Train on 20 samples\n",
      "20/20 [==============================] - 0s 25ms/sample - loss: 0.6255\n",
      "Train on 20 samples\n",
      "20/20 [==============================] - 1s 45ms/sample - loss: 0.6492\n",
      "Train on 20 samples\n",
      "20/20 [==============================] - 1s 25ms/sample - loss: 0.2693\n",
      "Train on 20 samples\n",
      "20/20 [==============================] - 0s 24ms/sample - loss: 0.5852\n",
      "Train on 20 samples\n",
      "20/20 [==============================] - 0s 24ms/sample - loss: 0.1926\n",
      "Train on 20 samples\n",
      "20/20 [==============================] - 0s 25ms/sample - loss: 0.1598\n",
      "Train on 20 samples\n",
      "20/20 [==============================] - 1s 46ms/sample - loss: 0.3477\n",
      "Train on 20 samples\n",
      "20/20 [==============================] - 0s 25ms/sample - loss: 0.4308\n",
      "Train on 20 samples\n",
      "20/20 [==============================] - 1s 26ms/sample - loss: 0.1848\n",
      "Train on 20 samples\n",
      "20/20 [==============================] - 1s 25ms/sample - loss: 0.6687\n",
      "Train on 20 samples\n",
      "20/20 [==============================] - 0s 24ms/sample - loss: 0.4076\n",
      "Train on 20 samples\n",
      "20/20 [==============================] - 0s 25ms/sample - loss: 0.9174\n",
      "Train on 20 samples\n",
      "20/20 [==============================] - 0s 24ms/sample - loss: 0.4588\n",
      "Train on 20 samples\n",
      "20/20 [==============================] - 1s 25ms/sample - loss: 0.6689\n",
      "Train on 20 samples\n",
      "20/20 [==============================] - 1s 25ms/sample - loss: 0.2127\n",
      "Train on 20 samples\n",
      "20/20 [==============================] - 0s 25ms/sample - loss: 0.1678\n",
      "Train on 20 samples\n",
      "20/20 [==============================] - 1s 46ms/sample - loss: 0.5041\n",
      "Train on 20 samples\n",
      "20/20 [==============================] - 0s 25ms/sample - loss: 1.1664\n",
      "Train on 20 samples\n",
      "20/20 [==============================] - 1s 27ms/sample - loss: 0.5395\n",
      "Train on 20 samples\n",
      "20/20 [==============================] - 0s 24ms/sample - loss: 0.4871\n",
      "Train on 20 samples\n",
      "20/20 [==============================] - 0s 25ms/sample - loss: 0.3734\n",
      "Train on 20 samples\n",
      "20/20 [==============================] - 1s 47ms/sample - loss: 0.8287\n",
      "Train on 20 samples\n",
      "20/20 [==============================] - 0s 24ms/sample - loss: 0.4672\n",
      "Train on 20 samples\n",
      "20/20 [==============================] - 0s 25ms/sample - loss: 1.2817\n",
      "Train on 20 samples\n",
      "20/20 [==============================] - 1s 25ms/sample - loss: 0.3292\n",
      "Train on 20 samples\n",
      "20/20 [==============================] - 0s 25ms/sample - loss: 0.4336\n",
      "Train on 20 samples\n",
      "20/20 [==============================] - 1s 48ms/sample - loss: 0.3733\n",
      "Train on 20 samples\n",
      "20/20 [==============================] - 1s 25ms/sample - loss: 0.4935\n",
      "Train on 20 samples\n",
      "20/20 [==============================] - 0s 25ms/sample - loss: 0.4043\n",
      "Train on 20 samples\n",
      "20/20 [==============================] - 1s 25ms/sample - loss: 3.0334\n",
      "Train on 20 samples\n",
      "20/20 [==============================] - 0s 25ms/sample - loss: 0.4305\n",
      "Train on 20 samples\n",
      "20/20 [==============================] - 1s 25ms/sample - loss: 0.5306\n",
      "Train on 20 samples\n",
      "20/20 [==============================] - 1s 48ms/sample - loss: 0.3532\n",
      "Train on 20 samples\n",
      "20/20 [==============================] - 0s 25ms/sample - loss: 0.5440\n",
      "Train on 20 samples\n",
      "20/20 [==============================] - 1s 25ms/sample - loss: 0.1494\n",
      "Train on 20 samples\n",
      "20/20 [==============================] - 1s 25ms/sample - loss: 0.8087\n",
      "Train on 20 samples\n",
      "20/20 [==============================] - 0s 25ms/sample - loss: 0.3975\n",
      "Train on 20 samples\n",
      "20/20 [==============================] - 0s 25ms/sample - loss: 0.6325\n",
      "Train on 20 samples\n",
      "20/20 [==============================] - 0s 25ms/sample - loss: 0.1951\n",
      "Train on 20 samples\n",
      "20/20 [==============================] - 1s 25ms/sample - loss: 0.1707\n",
      "Train on 20 samples\n",
      "20/20 [==============================] - 1s 26ms/sample - loss: 0.3361\n",
      "Train on 20 samples\n",
      "20/20 [==============================] - 1s 25ms/sample - loss: 0.7684\n",
      "Train on 20 samples\n",
      "20/20 [==============================] - 1s 26ms/sample - loss: 0.4502\n",
      "Train on 20 samples\n",
      "20/20 [==============================] - 0s 25ms/sample - loss: 0.6757\n",
      "Train on 20 samples\n",
      "20/20 [==============================] - 1s 25ms/sample - loss: 0.2728\n",
      "Train on 20 samples\n",
      "20/20 [==============================] - 1s 25ms/sample - loss: 0.6662\n",
      "Train on 20 samples\n",
      "20/20 [==============================] - 1s 26ms/sample - loss: 0.1045\n",
      "Train on 20 samples\n",
      "20/20 [==============================] - 0s 25ms/sample - loss: 2.1552\n",
      "Train on 20 samples\n",
      "20/20 [==============================] - 0s 24ms/sample - loss: 0.3374\n",
      "Train on 20 samples\n",
      "20/20 [==============================] - 0s 24ms/sample - loss: 0.4213\n",
      "Train on 20 samples\n",
      "20/20 [==============================] - 1s 50ms/sample - loss: 0.2687\n",
      "Train on 20 samples\n",
      "20/20 [==============================] - 1s 26ms/sample - loss: 0.5472\n",
      "Train on 20 samples\n",
      "20/20 [==============================] - 0s 25ms/sample - loss: 0.1691\n",
      "Train on 20 samples\n",
      "20/20 [==============================] - 1s 26ms/sample - loss: 0.7489\n",
      "Train on 20 samples\n",
      "20/20 [==============================] - 1s 25ms/sample - loss: 0.3013\n",
      "Train on 20 samples\n",
      "20/20 [==============================] - 0s 25ms/sample - loss: 0.4024\n",
      "Train on 20 samples\n",
      "20/20 [==============================] - 1s 51ms/sample - loss: 0.2016\n",
      "Train on 20 samples\n",
      "20/20 [==============================] - 1s 25ms/sample - loss: 0.7694\n",
      "Train on 20 samples\n",
      "20/20 [==============================] - 1s 26ms/sample - loss: 0.3454\n",
      "Train on 20 samples\n",
      "20/20 [==============================] - 0s 25ms/sample - loss: 1.1768\n",
      "Train on 20 samples\n",
      "20/20 [==============================] - 1s 25ms/sample - loss: 0.3716\n",
      "Train on 20 samples\n",
      "20/20 [==============================] - 1s 25ms/sample - loss: 0.5495\n",
      "Train on 20 samples\n"
     ]
    },
    {
     "name": "stdout",
     "output_type": "stream",
     "text": [
      "20/20 [==============================] - 1s 50ms/sample - loss: 0.2756\n",
      "Train on 20 samples\n",
      "20/20 [==============================] - 0s 25ms/sample - loss: 0.5058\n",
      "Train on 20 samples\n",
      "20/20 [==============================] - 0s 25ms/sample - loss: 0.3988\n",
      "Train on 20 samples\n",
      "20/20 [==============================] - 0s 25ms/sample - loss: 1.3026\n",
      "Train on 20 samples\n",
      "20/20 [==============================] - 1s 26ms/sample - loss: 0.5812\n",
      "Train on 20 samples\n",
      "20/20 [==============================] - 0s 25ms/sample - loss: 0.4827\n"
     ]
    },
    {
     "data": {
      "image/png": "[encoded data removed]",
      "text/plain": [
       "<Figure size 432x288 with 1 Axes>"
      ]
     },
     "metadata": {
      "needs_background": "light"
     },
     "output_type": "display_data"
    }
   ],
   "source": [
    "# we have a distribution layer and model with several of them\n",
    "# so, we can simulate any distribution for any column for any site_id\n",
    "\n",
    "columns_list = ['air_temperature', 'cloud_coverage', 'dew_temperature', 'sea_level_pressure', 'wind_direction', 'wind_speed']\n",
    "weather_distrib = pd.DataFrame(columns = ['site_id']+[i + '_' + j for i in columns_list \n",
    "                                    for j in list(itertools.chain(*[['mu' + str(i), 'st' + str(i)]\n",
    "                                                                for i in range(num_layers)]))]).set_index('site_id')\n",
    "for testing_site_index in weather_train['site_id'].unique():  \n",
    "    \n",
    "    testing_site_id = weather_train[weather_train['site_id'] == testing_site_index].drop('site_id', axis=1)\n",
    "    testing_site_id = testing_site_id.drop('timestamp', axis=1)\n",
    "    testing_site_id = testing_site_id.drop('precip_depth_1_hr', axis=1)\n",
    "    \n",
    "    for i in testing_site_id.columns:\n",
    "        try:\n",
    "            testing_site_id = fillna_by_time(testing_site_id, i)\n",
    "        except AssertionError:\n",
    "            testing_site_id[i].fillna(0, inplace=True)\n",
    "            testing_site_id = fillna_by_time(testing_site_id, i)\n",
    "    \n",
    "    data_per_site_id = []\n",
    "    for i in testing_site_id.columns:\n",
    "        temp = []\n",
    "        model = distribution_model(num_layers)\n",
    "        x, y = get_in_columns(i, testing_site_id)\n",
    "        model.fit(x, y, batch_size=len(x), epochs=800)\n",
    "\n",
    "        for j in model.weights:\n",
    "            temp.append(j.numpy()[0])\n",
    "\n",
    "        temp = [[temp[i*2], temp[i*2+1]] for i in range(num_layers)]\n",
    "        temp.sort()\n",
    "        data_per_site_id.append(list(itertools.chain(*temp)))\n",
    "\n",
    "    weather_distrib.loc[testing_site_index] = [data_per_site_id[i][j] \n",
    "                                         for i in range(len(testing_site_id.columns)) \n",
    "                                         for j in range(num_layers*2)]"
   ]
  },
  {
   "cell_type": "code",
   "execution_count": 38,
   "metadata": {},
   "outputs": [],
   "source": [
    "weather_distrib.to_csv('.\\data\\\\weather_train_ditributions.csv') "
   ]
  },
  {
   "cell_type": "markdown",
   "metadata": {},
   "source": [
    "## Regression model"
   ]
  },
  {
   "cell_type": "code",
   "execution_count": 42,
   "metadata": {},
   "outputs": [],
   "source": [
    "weather_distrib = pd.read_csv('.\\data\\\\weather_train_ditributions.csv').set_index('site_id')"
   ]
  },
  {
   "cell_type": "code",
   "execution_count": 44,
   "metadata": {},
   "outputs": [],
   "source": [
    "electricity = electricity.set_index('site_id').join(\n",
    "    weather_distrib, on='site_id')"
   ]
  },
  {
   "cell_type": "code",
   "execution_count": 46,
   "metadata": {},
   "outputs": [
    {
     "data": {
      "text/html": [
       "<div>\n",
       "<style scoped>\n",
       "    .dataframe tbody tr th:only-of-type {\n",
       "        vertical-align: middle;\n",
       "    }\n",
       "\n",
       "    .dataframe tbody tr th {\n",
       "        vertical-align: top;\n",
       "    }\n",
       "\n",
       "    .dataframe thead th {\n",
       "        text-align: right;\n",
       "    }\n",
       "</style>\n",
       "<table border=\"1\" class=\"dataframe\">\n",
       "  <thead>\n",
       "    <tr style=\"text-align: right;\">\n",
       "      <th></th>\n",
       "      <th>timestamp</th>\n",
       "      <th>meter_reading</th>\n",
       "      <th>primary_use</th>\n",
       "      <th>square_feet</th>\n",
       "      <th>year_built</th>\n",
       "      <th>floor_count</th>\n",
       "      <th>air_temperature_mu0</th>\n",
       "      <th>air_temperature_st0</th>\n",
       "      <th>air_temperature_mu1</th>\n",
       "      <th>air_temperature_st1</th>\n",
       "      <th>...</th>\n",
       "      <th>wind_speed_mu0</th>\n",
       "      <th>wind_speed_st0</th>\n",
       "      <th>wind_speed_mu1</th>\n",
       "      <th>wind_speed_st1</th>\n",
       "      <th>wind_speed_mu2</th>\n",
       "      <th>wind_speed_st2</th>\n",
       "      <th>wind_speed_mu3</th>\n",
       "      <th>wind_speed_st3</th>\n",
       "      <th>wind_speed_mu4</th>\n",
       "      <th>wind_speed_st4</th>\n",
       "    </tr>\n",
       "    <tr>\n",
       "      <th>site_id</th>\n",
       "      <th></th>\n",
       "      <th></th>\n",
       "      <th></th>\n",
       "      <th></th>\n",
       "      <th></th>\n",
       "      <th></th>\n",
       "      <th></th>\n",
       "      <th></th>\n",
       "      <th></th>\n",
       "      <th></th>\n",
       "      <th></th>\n",
       "      <th></th>\n",
       "      <th></th>\n",
       "      <th></th>\n",
       "      <th></th>\n",
       "      <th></th>\n",
       "      <th></th>\n",
       "      <th></th>\n",
       "      <th></th>\n",
       "      <th></th>\n",
       "      <th></th>\n",
       "    </tr>\n",
       "  </thead>\n",
       "  <tbody>\n",
       "    <tr>\n",
       "      <td>0</td>\n",
       "      <td>2016-01-01 00:00:00</td>\n",
       "      <td>0.0</td>\n",
       "      <td>Education</td>\n",
       "      <td>7432</td>\n",
       "      <td>2008.0</td>\n",
       "      <td>3.0</td>\n",
       "      <td>-1.225079</td>\n",
       "      <td>0.531623</td>\n",
       "      <td>-0.635134</td>\n",
       "      <td>0.531623</td>\n",
       "      <td>...</td>\n",
       "      <td>-1.477082</td>\n",
       "      <td>0.531623</td>\n",
       "      <td>-1.149131</td>\n",
       "      <td>0.531623</td>\n",
       "      <td>-1.104344</td>\n",
       "      <td>0.531623</td>\n",
       "      <td>-0.41849</td>\n",
       "      <td>0.531623</td>\n",
       "      <td>0.185063</td>\n",
       "      <td>0.531622</td>\n",
       "    </tr>\n",
       "    <tr>\n",
       "      <td>0</td>\n",
       "      <td>2016-01-01 00:00:00</td>\n",
       "      <td>0.0</td>\n",
       "      <td>Education</td>\n",
       "      <td>2720</td>\n",
       "      <td>2004.0</td>\n",
       "      <td>3.0</td>\n",
       "      <td>-1.225079</td>\n",
       "      <td>0.531623</td>\n",
       "      <td>-0.635134</td>\n",
       "      <td>0.531623</td>\n",
       "      <td>...</td>\n",
       "      <td>-1.477082</td>\n",
       "      <td>0.531623</td>\n",
       "      <td>-1.149131</td>\n",
       "      <td>0.531623</td>\n",
       "      <td>-1.104344</td>\n",
       "      <td>0.531623</td>\n",
       "      <td>-0.41849</td>\n",
       "      <td>0.531623</td>\n",
       "      <td>0.185063</td>\n",
       "      <td>0.531622</td>\n",
       "    </tr>\n",
       "    <tr>\n",
       "      <td>0</td>\n",
       "      <td>2016-01-01 00:00:00</td>\n",
       "      <td>0.0</td>\n",
       "      <td>Education</td>\n",
       "      <td>5376</td>\n",
       "      <td>1991.0</td>\n",
       "      <td>3.0</td>\n",
       "      <td>-1.225079</td>\n",
       "      <td>0.531623</td>\n",
       "      <td>-0.635134</td>\n",
       "      <td>0.531623</td>\n",
       "      <td>...</td>\n",
       "      <td>-1.477082</td>\n",
       "      <td>0.531623</td>\n",
       "      <td>-1.149131</td>\n",
       "      <td>0.531623</td>\n",
       "      <td>-1.104344</td>\n",
       "      <td>0.531623</td>\n",
       "      <td>-0.41849</td>\n",
       "      <td>0.531623</td>\n",
       "      <td>0.185063</td>\n",
       "      <td>0.531622</td>\n",
       "    </tr>\n",
       "  </tbody>\n",
       "</table>\n",
       "<p>3 rows × 66 columns</p>\n",
       "</div>"
      ],
      "text/plain": [
       "                   timestamp  meter_reading primary_use  square_feet  \\\n",
       "site_id                                                                \n",
       "0        2016-01-01 00:00:00            0.0   Education         7432   \n",
       "0        2016-01-01 00:00:00            0.0   Education         2720   \n",
       "0        2016-01-01 00:00:00            0.0   Education         5376   \n",
       "\n",
       "         year_built  floor_count  air_temperature_mu0  air_temperature_st0  \\\n",
       "site_id                                                                      \n",
       "0            2008.0          3.0            -1.225079             0.531623   \n",
       "0            2004.0          3.0            -1.225079             0.531623   \n",
       "0            1991.0          3.0            -1.225079             0.531623   \n",
       "\n",
       "         air_temperature_mu1  air_temperature_st1  ...  wind_speed_mu0  \\\n",
       "site_id                                            ...                   \n",
       "0                  -0.635134             0.531623  ...       -1.477082   \n",
       "0                  -0.635134             0.531623  ...       -1.477082   \n",
       "0                  -0.635134             0.531623  ...       -1.477082   \n",
       "\n",
       "         wind_speed_st0  wind_speed_mu1  wind_speed_st1  wind_speed_mu2  \\\n",
       "site_id                                                                   \n",
       "0              0.531623       -1.149131        0.531623       -1.104344   \n",
       "0              0.531623       -1.149131        0.531623       -1.104344   \n",
       "0              0.531623       -1.149131        0.531623       -1.104344   \n",
       "\n",
       "         wind_speed_st2  wind_speed_mu3  wind_speed_st3  wind_speed_mu4  \\\n",
       "site_id                                                                   \n",
       "0              0.531623        -0.41849        0.531623        0.185063   \n",
       "0              0.531623        -0.41849        0.531623        0.185063   \n",
       "0              0.531623        -0.41849        0.531623        0.185063   \n",
       "\n",
       "         wind_speed_st4  \n",
       "site_id                  \n",
       "0              0.531622  \n",
       "0              0.531622  \n",
       "0              0.531622  \n",
       "\n",
       "[3 rows x 66 columns]"
      ]
     },
     "execution_count": 46,
     "metadata": {},
     "output_type": "execute_result"
    }
   ],
   "source": [
    "electricity.head(3)"
   ]
  },
  {
   "cell_type": "code",
   "execution_count": 53,
   "metadata": {},
   "outputs": [],
   "source": [
    "columns_to_oh = ['primary_use', 'year_built']\n",
    "for col in columns_to_oh:\n",
    "    one_hot = pd.get_dummies(electricity[col])\n",
    "    one_hot.columns = [f'{col}_one_hot_{str(val)}' for val in one_hot.columns]\n",
    "    electricity = pd.concat([electricity, one_hot], axis=1)"
   ]
  },
  {
   "cell_type": "code",
   "execution_count": null,
   "metadata": {},
   "outputs": [],
   "source": [
    "electricity[:3].drop('primary_use', axis=1).head(3)"
   ]
  },
  {
   "cell_type": "code",
   "execution_count": null,
   "metadata": {},
   "outputs": [],
   "source": [
    "3"
   ]
  }
 ],
 "metadata": {
  "kernelspec": {
   "display_name": "Python 3",
   "language": "python",
   "name": "python3"
  }
 },
 "nbformat": 4,
 "nbformat_minor": 2
}
